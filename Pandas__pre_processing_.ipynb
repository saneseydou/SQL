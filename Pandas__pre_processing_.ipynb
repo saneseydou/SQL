{
  "nbformat": 4,
  "nbformat_minor": 0,
  "metadata": {
    "colab": {
      "provenance": [],
      "authorship_tag": "ABX9TyPuUZtD1Eg/MaJ29azLfVM0",
      "include_colab_link": true
    },
    "kernelspec": {
      "name": "python3",
      "display_name": "Python 3"
    },
    "language_info": {
      "name": "python"
    }
  },
  "cells": [
    {
      "cell_type": "markdown",
      "metadata": {
        "id": "view-in-github",
        "colab_type": "text"
      },
      "source": [
        "<a href=\"https://colab.research.google.com/github/saneseydou/SQL/blob/master/Pandas__pre_processing_.ipynb\" target=\"_parent\"><img src=\"https://colab.research.google.com/assets/colab-badge.svg\" alt=\"Open In Colab\"/></a>"
      ]
    },
    {
      "cell_type": "code",
      "execution_count": null,
      "metadata": {
        "id": "ZuFQSQef2V6Y"
      },
      "outputs": [],
      "source": [
        "import pandas as pd\n",
        "#importer le fichier CSV (STEG_BILLING_HISTORY)\n",
        "#lecture et conversion en dataframe\n",
        "\n",
        "donnée=pd.read_csv(\"STEG_BILLING_HISTORY.csv\")\n",
        "print(f\"l'ensemble de nos données est  \\n\\n :{donnée}\")\n",
        "\n",
        "print(\"\\n\\n\")\n",
        "#Chargez l'ensemble de données, affichez les dix premières lignes, stockez les résultats dans une variable appelée 'client_0_bills'.\n",
        "client_0_bill=donnée.iloc[:10]        #print(donnée.head(10))  cette syntax aussi renvoie les dix premières lignes\n",
        "print(f\" voici les dix premières lignes :    \\n\\n {client_0_bill}\")\n",
        "\n"
      ]
    },
    {
      "cell_type": "code",
      "source": [
        "#Quel est le type de données de la variable 'client_0_bills' ?\n",
        "\n",
        "print(donnée.info())        #dtypes: float64(2), int64(10), object(4) sont le type de variables contenues\n",
        "\n",
        "\n",
        "#Combien de lignes et de colonnes avons-nous dans cet ensemble de données ?\n",
        "#RangeIndex: 4476749 entries, 0 to 4476748\n",
        "\n",
        "#Combien de caractéristiques catégorielles sont présentes dans l'ensemble de données ?\n",
        "#object(4)\n",
        "\n",
        "#Combien d'espace mémoire l'ensemble de données consomme-t-il ?\n",
        "#memory usage: 546.5+ MB\n",
        "\n"
      ],
      "metadata": {
        "id": "F2g_v3sE8hIl"
      },
      "execution_count": null,
      "outputs": []
    },
    {
      "cell_type": "code",
      "source": [
        "# Inspectez l'ensemble de données pour détecter d'éventuelles valeurs manquantes.\n",
        "\n",
        "print(donnée.isnull)"
      ],
      "metadata": {
        "id": "5vXtjD4a_x6S"
      },
      "execution_count": null,
      "outputs": []
    },
    {
      "cell_type": "code",
      "source": [
        "# Choisissez votre stratégie pour traiter les valeurs\n",
        "# manquantes et expliquez-nous pourquoi vous avez fait ce choix.\n",
        "\n",
        "donnée['column_name'].fillna(data['column_name'].mean(), inplace=True)\n"
      ],
      "metadata": {
        "id": "moh2sg5iA9J6"
      },
      "execution_count": null,
      "outputs": []
    }
  ]
}