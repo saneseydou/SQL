{
  "nbformat": 4,
  "nbformat_minor": 0,
  "metadata": {
    "colab": {
      "provenance": [],
      "authorship_tag": "ABX9TyPII0HqTyLe0OYdtEc4MsX+",
      "include_colab_link": true
    },
    "kernelspec": {
      "name": "python3",
      "display_name": "Python 3"
    },
    "language_info": {
      "name": "python"
    }
  },
  "cells": [
    {
      "cell_type": "markdown",
      "metadata": {
        "id": "view-in-github",
        "colab_type": "text"
      },
      "source": [
        "<a href=\"https://colab.research.google.com/github/saneseydou/SQL/blob/master/web_scaping_1.ipynb\" target=\"_parent\"><img src=\"https://colab.research.google.com/assets/colab-badge.svg\" alt=\"Open In Colab\"/></a>"
      ]
    },
    {
      "cell_type": "code",
      "execution_count": null,
      "metadata": {
        "colab": {
          "base_uri": "https://localhost:8080/"
        },
        "id": "caCeCNc0pgZX",
        "outputId": "7eb41186-b26a-4207-be7a-5c4ecd0967f9"
      },
      "outputs": [
        {
          "output_type": "stream",
          "name": "stdout",
          "text": [
            "Requirement already satisfied: requests in /usr/local/lib/python3.11/dist-packages (2.32.3)\n",
            "Requirement already satisfied: charset-normalizer<4,>=2 in /usr/local/lib/python3.11/dist-packages (from requests) (3.4.1)\n",
            "Requirement already satisfied: idna<4,>=2.5 in /usr/local/lib/python3.11/dist-packages (from requests) (3.10)\n",
            "Requirement already satisfied: urllib3<3,>=1.21.1 in /usr/local/lib/python3.11/dist-packages (from requests) (2.3.0)\n",
            "Requirement already satisfied: certifi>=2017.4.17 in /usr/local/lib/python3.11/dist-packages (from requests) (2024.12.14)\n"
          ]
        }
      ],
      "source": [
        "pip install requests"
      ]
    },
    {
      "cell_type": "markdown",
      "source": [
        "#importation"
      ],
      "metadata": {
        "id": "yNBnZ1fcHKGQ"
      }
    },
    {
      "cell_type": "markdown",
      "source": [],
      "metadata": {
        "id": "HqWq6b2OHJSX"
      }
    },
    {
      "cell_type": "code",
      "source": [
        "import requests\n",
        "import string\n",
        "from bs4 import BeautifulSoup\n"
      ],
      "metadata": {
        "id": "lJIFgYNFpqOP"
      },
      "execution_count": null,
      "outputs": []
    },
    {
      "cell_type": "markdown",
      "source": [
        "saisi du lien web"
      ],
      "metadata": {
        "id": "MAtrjP-rHpj2"
      }
    },
    {
      "cell_type": "code",
      "source": [
        "first_input= input(\"what do you want to search ?\\n\")          #mots clé ou prompt\n",
        "\n",
        "\n",
        "correct_prompt = string.capwords(first_input)                       # permet de corriger le texte saisi (en metant la première lettre des mots en masjuscule)\n",
        "\n",
        "listing = correct_prompt.split()                          #permet de diviser notre chaîne de caractères en une liste de sous-chaînes (mots, phrases, etc.)\n",
        "\n",
        "word= \"_\".join(listing)                             # _.join() est appliquée sur une chaîne de caractères qui sert de séparateur\n",
        "\n",
        "url = \"https://en.wikipedia.org/wiki/\"+word      #passer à la recherche\n",
        "\n",
        "def wikibot(url_open):\n",
        "\n",
        "  url_open=requests.get(url)\n",
        "  extract= BeautifulSoup(url_open.content,'html.parser')\n",
        "  details=extract(\"table\",{\"class\":\"info\"})\n",
        "  for i in details:\n",
        "    h=i.find.all(\"tr\")        #•\tfind_all(\"tr\") est utilisé pour retourner toutes les correspondances sous forme de liste.\n",
        "    for j in h:\n",
        "      heading=j.find.all(\"th\")        #donnée en tête tablea\n",
        "      detail=j.find.all(\"td\")         #donnée tableau\n",
        "      if heading is not None and detail is not None:\n",
        "        for x,y in zip(heading,detail):\n",
        "          print(\"{}::{}\".format(x.text, y.text))\n",
        "          print(\"\\n\\n -----------------------\\n\")\n",
        "    for i in range(1,3):\n",
        "      print(extract(\"p\")[i].text)\n",
        "  wikibot(url)\n",
        "\n"
      ],
      "metadata": {
        "colab": {
          "base_uri": "https://localhost:8080/"
        },
        "id": "Cs-mBIdoETBX",
        "outputId": "5c4d3c45-697e-422c-c3f2-21aac8e8e7c8"
      },
      "execution_count": null,
      "outputs": [
        {
          "name": "stdout",
          "output_type": "stream",
          "text": [
            "what do you want to search ?\n",
            "sheikh ali jabir\n"
          ]
        }
      ]
    },
    {
      "cell_type": "markdown",
      "source": [
        "#Creation de fonction"
      ],
      "metadata": {
        "id": "dEa2wNE4VKXr"
      }
    },
    {
      "cell_type": "markdown",
      "source": [
        "La méthode requests.get() est utilisée pour envoyer une requête HTTP GET à un serveur afin de récupérer des données à partir d'une URL\n",
        "\n",
        "BeautifulSoup est une bibliothèque Python utilisée pour extraire et manipuler des données à partir de documents HTML et XML. Elle est couramment utilisée pour le web scraping."
      ],
      "metadata": {
        "id": "F194iroiRyDT"
      }
    },
    {
      "cell_type": "code",
      "source": [
        "def wikibot(url_open):\n",
        "\n",
        "  url_open=requests.get(url)\n",
        "  extract= BeautifulSoup(url_open.content,'html.parser')\n",
        "  details=extract(\"table\",{\"class\":\"info\"})\n",
        "  for i in details:\n",
        "    h=i.find.all(\"tr\")        #•\tfind_all(\"tr\") est utilisé pour retourner toutes les correspondances sous forme de liste.\n",
        "    for j in h:\n",
        "      heading=j.find.all(\"th\")        #donnée en tête tablea\n",
        "      detail=j.find.all(\"td\")         #donnée tableau\n",
        "      if heading is not None and detail is not None:\n",
        "        for x,y in zip(heading,detail):\n",
        "          print(\"{}::{}\".format(x.text, y.text))\n",
        "          print(\"\\n\\n -----------------------\\n\")\n",
        "    for i in range(1,3):\n",
        "      print(extract(\"p\")[i].text)\n",
        "  return wikibot"
      ],
      "metadata": {
        "id": "yK9HaLUjhZUc"
      },
      "execution_count": null,
      "outputs": []
    },
    {
      "cell_type": "markdown",
      "source": [],
      "metadata": {
        "id": "zs1AvgzbhYt2"
      }
    }
  ]
}