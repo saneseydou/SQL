{
  "nbformat": 4,
  "nbformat_minor": 0,
  "metadata": {
    "colab": {
      "provenance": [],
      "authorship_tag": "ABX9TyNRLHqFR5i4mpIbsvYlcuBn",
      "include_colab_link": true
    },
    "kernelspec": {
      "name": "python3",
      "display_name": "Python 3"
    },
    "language_info": {
      "name": "python"
    }
  },
  "cells": [
    {
      "cell_type": "markdown",
      "metadata": {
        "id": "view-in-github",
        "colab_type": "text"
      },
      "source": [
        "<a href=\"https://colab.research.google.com/github/saneseydou/SQL/blob/master/calculator_program_checkpoint.ipynb\" target=\"_parent\"><img src=\"https://colab.research.google.com/assets/colab-badge.svg\" alt=\"Open In Colab\"/></a>"
      ]
    },
    {
      "cell_type": "code",
      "execution_count": 29,
      "metadata": {
        "colab": {
          "base_uri": "https://localhost:8080/",
          "height": 366
        },
        "id": "BR8kVYYc3Cbt",
        "outputId": "b9f7437f-8470-4f66-af26-aff8fda3bb33"
      },
      "outputs": [
        {
          "output_type": "stream",
          "name": "stdout",
          "text": [
            "choisir le signe + pour addition     \n",
            "choisir le signe - pour la soustraction    \n",
            "choisir le signe * pour la multiplication  \n",
            "choisir  le signe / pour la division \n",
            "choisir (e) pour exponnnentielle  \n",
            "choisir (log) pour logarithme  \n",
            "choisir (r) pour racine  \n"
          ]
        },
        {
          "output_type": "error",
          "ename": "AttributeError",
          "evalue": "'NoneType' object has no attribute 'lower'",
          "traceback": [
            "\u001b[0;31m---------------------------------------------------------------------------\u001b[0m",
            "\u001b[0;31mAttributeError\u001b[0m                            Traceback (most recent call last)",
            "\u001b[0;32m<ipython-input-29-f98149b9cad6>\u001b[0m in \u001b[0;36m<cell line: 0>\u001b[0;34m()\u001b[0m\n\u001b[1;32m     74\u001b[0m     \u001b[0;32mfrom\u001b[0m \u001b[0mmath\u001b[0m \u001b[0;32mimport\u001b[0m \u001b[0msqrt\u001b[0m\u001b[0;34m\u001b[0m\u001b[0;34m\u001b[0m\u001b[0m\n\u001b[1;32m     75\u001b[0m     \u001b[0;32mreturn\u001b[0m \u001b[0;34m(\u001b[0m\u001b[0msqrt\u001b[0m\u001b[0;34m(\u001b[0m\u001b[0mx\u001b[0m\u001b[0;34m)\u001b[0m\u001b[0;34m)\u001b[0m\u001b[0;34m\u001b[0m\u001b[0;34m\u001b[0m\u001b[0m\n\u001b[0;32m---> 76\u001b[0;31m \u001b[0mc12san\u001b[0m\u001b[0;34m.\u001b[0m\u001b[0madd_operation\u001b[0m\u001b[0;34m(\u001b[0m\u001b[0;34m\"r\"\u001b[0m\u001b[0;34m,\u001b[0m\u001b[0mracine\u001b[0m\u001b[0;34m)\u001b[0m\u001b[0;34m.\u001b[0m\u001b[0mlower\u001b[0m\u001b[0;34m(\u001b[0m\u001b[0;34m)\u001b[0m        \u001b[0;31m#l'appelle d'instence permet de lier la sortie avec add_operation qui le stock dans le dictionnaire\u001b[0m\u001b[0;34m\u001b[0m\u001b[0;34m\u001b[0m\u001b[0m\n\u001b[0m\u001b[1;32m     77\u001b[0m \u001b[0;34m\u001b[0m\u001b[0m\n\u001b[1;32m     78\u001b[0m \u001b[0;34m\u001b[0m\u001b[0m\n",
            "\u001b[0;31mAttributeError\u001b[0m: 'NoneType' object has no attribute 'lower'"
          ]
        }
      ],
      "source": [
        "#------------------------------------------------------------------------\n",
        "#IL est question dans ce code de créer une calculatrice qui puisse stocker les données dans un dictionnaire\n",
        "#------------------------------------------------------------------------\n",
        "\n",
        "#------------------------------------------------------------------------\n",
        "#Affichage des options\n",
        "#------------------------------------------------------------------------\n",
        "print(\"choisir le signe + pour addition     \")\n",
        "print(\"choisir le signe - pour la soustraction    \")\n",
        "print(\"choisir le signe * pour la multiplication  \")\n",
        "print(\"choisir  le signe / pour la division \")\n",
        "print(\"choisir (e) pour exponnnentielle  \")\n",
        "print(\"choisir (log) pour logarithme  \")\n",
        "print(\"choisir (r) pour racine  \")\n",
        "\n",
        "\n",
        "#------------------------------------------------------------------------\n",
        "#Création de class\n",
        "#------------------------------------------------------------------------\n",
        "\n",
        "class Calculator:                                    #soit notre class (calculator) nous permettant des créer l'objet calcul\n",
        "\n",
        "  def add(self,v1):                                  #fonction d'addition\n",
        "    v2=int(input(\"saisir votre second valeur\"))      #cette instruction ne sera exécutée que si le signe de l'operation corespond\n",
        "    return (v1+v2)\n",
        "\n",
        "  def substract(self,v1):                            #fonction de soustraction\n",
        "    v2=int(input(\"saisir votre second valeur\"))      #cette instruction ne sera exécutée que si le signe de l'operation corespond\n",
        "    return (v1-v2)\n",
        "\n",
        "  def multiply(self,v1):                             #fonction de multiplication\n",
        "    v2=int(input(\"saisir votre second valeur\"))      #cette instruction ne sera exécutée que si le signe de l'operation corespond\n",
        "    return (v1*v2)\n",
        "\n",
        "  def divide(self,v1):                               #fonction de division\n",
        "    v2=int(input(\"saisir votre second valeur\"))      #cette instruction ne sera exécutée que si le signe de l'operation corespond\n",
        "    return (v1/v2)\n",
        "\n",
        "\n",
        "\n",
        "  def __init__(self):           #l'initialisation de la classe peut avoir des paramètre ou non\n",
        "    self.stock_operation={\"+\":self.add, \"-\":self.substract, \"*\":self.multiply,\"/\":self.divide}      #le stockage est de type dictionnaire\n",
        "\n",
        "#------------------------------------------------------------------------\n",
        "# ici la fonction add_operatioin permet d'évacuer la donnée vers le dictionnaire de stockage selon la disposition du dictionnaire\n",
        "#------------------------------------------------------------------------\n",
        "\n",
        "  def add_operation(self,type_opera,values):\n",
        "    self.stock_operation[type_opera]=values    #affection de la valeur à la clé du dictionnaire\n",
        "#------------------------------------------------------------------------\n",
        "#création d'une méthode nous permettant d'effectuer des actions (ici action calcul)\n",
        "#------------------------------------------------------------------------\n",
        "\n",
        "  def calculate(self,signe_oper,num1):      #cette fonction effection le calcul en exploitant le dictionnaire\n",
        "    op=self.stock_operation[signe_oper]\n",
        "    print(op(num1))\n",
        "\n",
        "c12san=Calculator()                 #création d'instantce (objet)\n",
        "#------------------------------------------------------------------------\n",
        "#création de fonction pour calcul avancés\n",
        "#------------------------------------------------------------------------\n",
        "\n",
        "def expo(x):                                  #fonction exponnentielle\n",
        "  from math import exp\n",
        "  return (exp(x))\n",
        "c12san.add_operation(\"e\",expo)                #l'appelle d'instence permet de lier la sortie avec add_operation qui le stock dans le dictionnaire\n",
        "\n",
        "def ln(x):                                    #fonction logarithme néperien\n",
        "  from math import log\n",
        "  return (log(x))\n",
        "c12san.add_operation(\"log\",ln)                #l'appelle d'instence permet de lier la sortie avec add_operation qui le stock dans le dictionnaire\n",
        "\n",
        "def racine(x):                                 #fonction racine carrée\n",
        "    from math import sqrt\n",
        "    return (sqrt(x))\n",
        "c12san.add_operation(\"r\",racine)               #l'appelle d'instence permet de lier la sortie avec add_operation qui le stock dans le dictionnaire\n",
        "\n",
        "\n",
        "while True:                                    #notre boucle tant que permet répété tanque l'utilisateur le désir\n",
        "\n",
        "\n",
        "  signe=input(\"mettez le symbole de votre opération   \")\n",
        "  val_1=int(input(\"saisir la prémière valeur:       \"))\n",
        "  c12san.calculate(signe,val_1)\n",
        "  continuer=input(\"voulez-vous continuer oui ou non   \")\n",
        "  if continuer.lower()==\"non\" :\n",
        "    print(\"au revoir !!!  \")\n",
        "    break\n",
        "  elif continuer.lower()==\"oui\":\n",
        "    continue\n",
        "  else:\n",
        "      print(\"hi C12sané ! opération non prise en charge! \")\n",
        "\n",
        "\n",
        "\n",
        "\n"
      ]
    }
  ]
}