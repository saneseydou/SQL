{
  "nbformat": 4,
  "nbformat_minor": 0,
  "metadata": {
    "colab": {
      "provenance": [],
      "authorship_tag": "ABX9TyPlNgImJ74D4pD1maQUXLy4",
      "include_colab_link": true
    },
    "kernelspec": {
      "name": "python3",
      "display_name": "Python 3"
    },
    "language_info": {
      "name": "python"
    }
  },
  "cells": [
    {
      "cell_type": "markdown",
      "metadata": {
        "id": "view-in-github",
        "colab_type": "text"
      },
      "source": [
        "<a href=\"https://colab.research.google.com/github/saneseydou/SQL/blob/master/pandas_check1__.ipynb\" target=\"_parent\"><img src=\"https://colab.research.google.com/assets/colab-badge.svg\" alt=\"Open In Colab\"/></a>"
      ]
    },
    {
      "cell_type": "code",
      "execution_count": 45,
      "metadata": {
        "colab": {
          "base_uri": "https://localhost:8080/"
        },
        "id": "kQDl0SBSOTff",
        "outputId": "a1267ba0-e791-492f-8fb6-82d95a30fb70"
      },
      "outputs": [
        {
          "output_type": "stream",
          "name": "stdout",
          "text": [
            "soit le dictionnaire suivant \n",
            " {'Name': ['John', 'Mary', 'Bob', 'Sarah', 'Tom', 'Lisa'], 'Department': ['IT', 'Marketing', 'Sales', 'IT', 'Finance', 'Marketing'], 'Age': [30, 40, 25, 35, 45, 28], 'Sexe': ['Homme', 'Femme', 'Homme', 'Femme', 'Homme', 'Femme'], 'Salaire': [50000, 60000, 45000, 55000, 70000, 55000], 'Expérience': [3, 7, 2, 5, 10, 4]}\n",
            "\n",
            "\n",
            "\n",
            "votre DataFrame est :    \n",
            "\n",
            "     Name Department  Age   Sexe  Salaire  Expérience\n",
            "0   John         IT   30  Homme    50000           3\n",
            "1   Mary  Marketing   40  Femme    60000           7\n",
            "2    Bob      Sales   25  Homme    45000           2\n",
            "3  Sarah         IT   35  Femme    55000           5\n",
            "4    Tom    Finance   45  Homme    70000          10\n",
            "5   Lisa  Marketing   28  Femme    55000           4\n",
            "\n",
            "\n",
            "\n",
            "les trois pemieres lignes de votre table \n",
            " \n",
            "    Name Department  Age   Sexe  Salaire  Expérience\n",
            "0  John         IT   30  Homme    50000           3\n",
            "1  Mary  Marketing   40  Femme    60000           7\n",
            "2   Bob      Sales   25  Homme    45000           2\n",
            "\n",
            "\n",
            "\n",
            "voici ceux qui appartiennent au dépt marketing  \n",
            " \n",
            "    Name Department  Age   Sexe  Salaire  Expérience\n",
            "1  Mary  Marketing   40  Femme    60000           7\n",
            "5  Lisa  Marketing   28  Femme    55000           4\n",
            "\n",
            "\n",
            "\n",
            "extrait des colonnes Age et Sexe   \n",
            " \n",
            "    Age   Sexe\n",
            "0   30  Homme\n",
            "1   40  Femme\n",
            "2   25  Homme\n",
            "3   35  Femme\n",
            "4   45  Homme\n",
            "\n",
            "\n",
            "\n",
            "la liste des salaires et expériences des hommes  \n",
            " \n",
            "      Salaire  Expérience\n",
            "0    50000           3\n",
            "2    45000           2\n",
            "4    70000          10\n"
          ]
        }
      ],
      "source": [
        "import pandas as pd\n",
        "#Créer un cadre de données appelé \"employee_df\" avec les données suivantes:\n",
        "#-------------------------------------------------------------------------------\n",
        "#soit le dictionnaire de liste :\n",
        "#-------------------------------------------------------------------------------\n",
        "\n",
        "data = {'Name' : ['John', 'Mary', 'Bob', 'Sarah', 'Tom', 'Lisa'],\n",
        "        'Department' : ['IT', 'Marketing', 'Sales', 'IT', 'Finance', 'Marketing'],\n",
        "        'Age' : [30, 40, 25, 35, 45, 28],\n",
        "        \"Sexe\" : ['Homme', 'Femme', 'Homme', 'Femme', 'Homme', 'Femme'],\n",
        "        'Salaire' : [50000, 60000, 45000, 55000, 70000, 55000],\n",
        "        'Expérience' : [3, 7, 2, 5, 10, 4]}\n",
        "print(f\"soit le dictionnaire suivant \\n {data}\")\n",
        "print(\"\\n\\n\")\n",
        "#-------------------------------------------------------------------------------\n",
        "employee_df=pd.DataFrame(data)                            #conversion du dictionnaire data en DataFrame\n",
        "print(f\"votre DataFrame est :    \\n\\n {employee_df}\")       #affichage du dataframe\n",
        "\n",
        "#-------------------------------------------------------------------------------\n",
        "#Utilisation de la méthode iloc pour sélectionner les 3 premières lignes du dataframe.\n",
        "#-------------------------------------------------------------------------------\n",
        "print(\"\\n\\n\")\n",
        "tab1=employee_df.iloc[0:3]\n",
        "print(f\"les trois pemieres lignes de votre table \\n \\n {tab1}\")\n",
        "\n",
        "#-------------------------------------------------------------------------------\n",
        "# use méthode loc pour sélectionner toutes les lignes où le département est \"Marketing\".\n",
        "#-------------------------------------------------------------------------------\n",
        "print(\"\\n\\n\")\n",
        "tab2=employee_df.loc[employee_df['Department']==\"Marketing\"]\n",
        "#on extrait d'abord la colonne departement ensuite tout ce qui est égale Marketing puis l'extraire dans tous les lignes\n",
        "print(f\"voici ceux qui appartiennent au dépt marketing  \\n \\n {tab2}\")\n",
        "\n",
        "#-------------------------------------------------------------------------------\n",
        "#Utilisez la méthode iloc pour sélectionner les colonnes Age et Sexe pour les 4 premières lignes du dataframe.\n",
        "#-------------------------------------------------------------------------------\n",
        "print(\"\\n\\n\")\n",
        "tab3=employee_df.loc[0:4,[\"Age\",\"Sexe\"]]              #on a n'étiquette les colonne age et sexe\n",
        "print(f\"extrait des colonnes Age et Sexe   \\n \\n {tab3}\")\n",
        "\n",
        "#-------------------------------------------------------------------------------\n",
        "# Utilisez la méthode loc pour sélectionner les colonnes Salaire et Expérience pour toutes les lignes dont le sexe est \"Male\".\n",
        "#-------------------------------------------------------------------------------\n",
        "print(\"\\n\\n\")\n",
        "tab4=employee_df.loc[employee_df[\"Sexe\"]==\"Homme\"]    #nous avons d'abord rechercher sur la colonne sexe l'étiquette homme\n",
        "tab5=tab4.loc[:,[\"Salaire\",\"Expérience\"]]             #nous avons ensuite spécifier les lignes et les colonnnes concerné par l'étiquette home\n",
        "print(f\"la liste des salaires et expériences des hommes  \\n \\n   {tab5}\")\n",
        "\n",
        "#-------------------------------------------------------------------------------\n",
        "# Note:\n",
        "\n",
        "# iloc est utilisé pour la sélection par l'emplacement de l'index\n",
        "# loc est utilisé pour la sélection par l'étiquette.\n"
      ]
    }
  ]
}